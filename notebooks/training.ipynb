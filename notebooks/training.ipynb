{
 "cells": [
  {
   "cell_type": "code",
   "execution_count": null,
   "id": "d9de7e84-a82d-4d47-aea8-44319961e255",
   "metadata": {},
   "outputs": [],
   "source": [
    "%load_ext autoreload\n",
    "%autoreload 2\n",
    "#%matplotlib widget\n",
    "#%matplotlib ipympl\n",
    "\n",
    "#%reload_ext tensorboard\n",
    "#%matplotlib qt"
   ]
  },
  {
   "cell_type": "code",
   "execution_count": null,
   "id": "5236053e-dda7-4530-9cad-2f710a1b3968",
   "metadata": {},
   "outputs": [],
   "source": [
    "import numpy as np\n",
    "import pandas as pd\n",
    "import os\n",
    "#from torchinfo import summary\n",
    "#from torch_geometric.nn import summary\n",
    "#import torch_geometric.transforms as T\n",
    "import torch\n",
    "\n",
    "from LN_malignancy_GNN.pytorch.run_model_torch import RunModel\n",
    "#from hnc_project.pytorch.resnet import resnet50\n",
    "#from hnc_project.pytorch import resnet_gcn as rgc"
   ]
  },
  {
   "cell_type": "code",
   "execution_count": null,
   "id": "638470fa-8b52-44da-b739-dc88d1c31752",
   "metadata": {},
   "outputs": [],
   "source": [
    "from LN_malignancy_GNN.pytorch.gen_params_torch_cfg import model_config\n",
    "model_config['batch_size'] = 12\n",
    "model_config['dropout'] = 0.3\n",
    "#model_config['ext_dropout'] = 0.0\n",
    "model_config['n_epochs'] = 200\n",
    "#model_config['learning_rate'] = 1e-2\n",
    "#model_config['lr_factor'] = 0.1\n",
    "#model_config['lr_patience'] = 5\n",
    "#model_config['l2_reg'] = 1e-3\n",
    "#model_config['n_channels'] = 1\n",
    "#model_config['data_type'] = 'image'\n",
    "##model_config['model_name'] = 'DeepGCN'\n",
    "##model_config['model_name'] = 'ClinicalGatedGCN'\n",
    "#model_config['model_name'] = 'ResNet50'\n",
    "##model_config['model_name'] = 'GraphAgResNet'\n",
    "##model_config['model_name'] = 'GatedGCN'\n",
    "##model_config['extractor_name'] = 'None'\n",
    "model_config['extractor_name'] = 'resnet18'\n",
    "model_config['extractor_channels'] = 512\n",
    "##model_config['extractor_name'] = 'DenseNet'\n",
    "#model_config['with_edge_attr'] = False\n",
    "#model_config['use_clinical'] = True\n",
    "#model_config['edge_dim'] = 1\n",
    "#model_config['scaling_type'] = 'ZScore'\n",
    "#model_config['cross_val'] = True\n",
    "#model_config['nested_cross_val'] = False\n",
    "#model_config['num_deep_layers'] = 28\n",
    "#model_config['augment'] = True\n",
    "#model_config['augments'] = [\n",
    "#                            'rotation',\n",
    "#                           ]\n",
    "model_config['n_rotations'] = 10\n",
    "model_config['balance_classes'] = True\n",
    "#model_config['n_extracted_features'] = 2048\n",
    "#model_config['n_hidden_channels'] = 64\n",
    "model_config['log_dir'] = 'training_resnet18_augment_rot10_balance_v1'\n",
    "model_config['data_version'] = 'initial_rot10_balance_v1'\n",
    "## v1 is 29, v2 is 32, v3 is 22, v4 is 28, v5 is 8, v7 is 28, v8 is 22, v9 is 18\n",
    "#model_config['preset_folds'] = False\n",
    "#model_config['preset_fold_file'] = 'preset_folds_wGTVp.pkl'\n"
   ]
  },
  {
   "cell_type": "code",
   "execution_count": null,
   "id": "60e45e89-e0ad-40d0-b272-5ba9a00fd290",
   "metadata": {
    "scrolled": true
   },
   "outputs": [],
   "source": [
    "model = RunModel(model_config)\n",
    "model.set_model()\n",
    "model.set_data()"
   ]
  },
  {
   "cell_type": "code",
   "execution_count": null,
   "id": "135165e7-a591-4d39-aea7-1f76b3404a24",
   "metadata": {},
   "outputs": [],
   "source": [
    "model.set_train_test_split()\n",
    "model.set_data_module()\n",
    "model.set_callbacks()"
   ]
  },
  {
   "cell_type": "code",
   "execution_count": null,
   "id": "1cf61c7e-1f8a-4487-a35f-d8029e164e3d",
   "metadata": {
    "scrolled": true
   },
   "outputs": [],
   "source": [
    "%%capture output\n",
    "#test_model.set_loss_fn()\n",
    "#test_model.run()\n",
    "model.run()\n",
    "#results = test_model.run_nested_crossval()\n",
    "#print(results[1])\n",
    "#print(results[2])\n",
    "print('############################################')\n",
    "print('############################################')\n",
    "print('############################################')\n",
    "print('############################################')\n",
    "print('############################################')\n",
    "print('############################################')"
   ]
  },
  {
   "cell_type": "code",
   "execution_count": null,
   "id": "fa58ab4c-5d9c-4dab-96d7-210218e6990c",
   "metadata": {},
   "outputs": [],
   "source": [
    "output.show()"
   ]
  },
  {
   "cell_type": "code",
   "execution_count": null,
   "id": "42d511b4-491c-4a72-96d0-1e4e0aeab3c7",
   "metadata": {},
   "outputs": [],
   "source": []
  }
 ],
 "metadata": {
  "kernelspec": {
   "display_name": "pytorch_gpu_v2",
   "language": "python",
   "name": "pytorch_gpu_v2"
  },
  "language_info": {
   "codemirror_mode": {
    "name": "ipython",
    "version": 3
   },
   "file_extension": ".py",
   "mimetype": "text/x-python",
   "name": "python",
   "nbconvert_exporter": "python",
   "pygments_lexer": "ipython3",
   "version": "3.9.18"
  }
 },
 "nbformat": 4,
 "nbformat_minor": 5
}
